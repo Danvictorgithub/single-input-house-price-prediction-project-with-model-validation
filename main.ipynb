{
 "cells": [
  {
   "cell_type": "code",
   "execution_count": 22,
   "metadata": {},
   "outputs": [],
   "source": [
    "import matplotlib.pyplot as plt\n",
    "import numpy as np\n",
    "from pathlib import Path\n",
    "from sklearn.linear_model import LinearRegression\n",
    "from sklearn.preprocessing import PolynomialFeatures, StandardScaler\n",
    "from sklearn.model_selection import train_test_split\n",
    "from sklearn.metrics import root_mean_squared_error"
   ]
  },
  {
   "cell_type": "code",
   "execution_count": 23,
   "metadata": {},
   "outputs": [],
   "source": [
    "path = Path(\"./sampledataset.csv\")\n",
    "data = np.loadtxt(path,delimiter=\",\",dtype=str)\n",
    "header_row = data[0]\n",
    "x_data = np.array(data[1:,0],dtype=float)\n",
    "y_data = np.array(data[1:,1],dtype=float)\n"
   ]
  },
  {
   "cell_type": "code",
   "execution_count": 24,
   "metadata": {},
   "outputs": [
    {
     "data": {
      "image/png": "[encoded data removed]",
      "text/plain": [
       "<Figure size 640x480 with 1 Axes>"
      ]
     },
     "metadata": {},
     "output_type": "display_data"
    }
   ],
   "source": [
    "fig, ax = plt.subplots()\n",
    "\n",
    "ax.scatter(x_data, y_data, c='blue')\n",
    "ax.set_xlabel(\"Area (sq. ft.)\")\n",
    "ax.set_ylabel(\"Price (USD)\")\n",
    "\n",
    "# Adjust layout to prevent truncation\n",
    "fig.tight_layout()\n",
    "\n",
    "plt.show()"
   ]
  },
  {
   "cell_type": "code",
   "execution_count": 25,
   "metadata": {},
   "outputs": [],
   "source": [
    "x_train,x_,y_train,y_ = train_test_split(x_data,y_data,test_size=0.4,random_state=1)\n",
    "x_cv,x_test,y_cv,y_test = train_test_split(x_,y_,test_size=0.5,random_state=1)\n",
    "\n",
    "del x_,y_"
   ]
  },
  {
   "cell_type": "code",
   "execution_count": 32,
   "metadata": {},
   "outputs": [
    {
     "name": "stdout",
     "output_type": "stream",
     "text": [
      "Training score: 0.9224268776970475\n",
      "Cross-validation score: 0.9479020125587047\n",
      "Training RMSE: 5168.93734828042\n",
      "Cross-validation RMSE: 4850.453174146582\n"
     ]
    }
   ],
   "source": [
    "\n",
    "scaler_linear = StandardScaler()\n",
    "x_train_linear_normalized = scaler_linear.fit_transform(x_train.reshape(-1,1))\n",
    "\n",
    "model = LinearRegression()\n",
    "model.fit(x_train_linear_normalized, y_train)\n",
    "\n",
    "y_train_predictions = model.predict(x_train_linear_normalized)\n",
    "training_score = model.score(x_train_linear_normalized, y_train)\n",
    "\n",
    "x_cv_linear_normalized = scaler_linear.transform(x_cv.reshape(-1,1))\n",
    "y_cv_predictions = model.predict(x_cv_linear_normalized)\n",
    "cv_score = model.score(x_cv_linear_normalized, y_cv)\n",
    "\n",
    "print(f\"Training score: {training_score}\")\n",
    "print(f\"Cross-validation score: {cv_score}\")\n",
    "print(f\"Training RMSE: {root_mean_squared_error(y_train, y_train_predictions)}\")\n",
    "print(f\"Cross-validation RMSE: {root_mean_squared_error(y_cv,y_cv_predictions)}\")\n",
    "# The result of the prediction in cross-validation provide a good fit to the data and the RMSE is low.\n"
   ]
  },
  {
   "cell_type": "code",
   "execution_count": 33,
   "metadata": {},
   "outputs": [
    {
     "name": "stdout",
     "output_type": "stream",
     "text": [
      "Training score (polynomial): 0.9242736454883972\n",
      "Cross-validation score (polynomial): 0.9516793879902469\n",
      "Training RMSE (polynomial): 5107.038799304172\n",
      "Cross-validation RMSE (polynomial): 4671.303190738452\n"
     ]
    }
   ],
   "source": [
    "poly = PolynomialFeatures(degree=2)\n",
    "x_train_poly = poly.fit_transform(x_train.reshape(-1,1))\n",
    "scaler_poly = StandardScaler()\n",
    "x_train_poly_normalized = scaler_poly.fit_transform(x_train_poly)\n",
    "\n",
    "model2 = LinearRegression()\n",
    "model2.fit(x_train_poly_normalized, y_train)\n",
    "\n",
    "y_train_poly_predictions = model2.predict(x_train_poly_normalized)\n",
    "training_score_poly = model2.score(x_train_poly_normalized, y_train)\n",
    "\n",
    "x_cv_poly = poly.transform(x_cv.reshape(-1,1))\n",
    "x_cv_poly_normalized = scaler_poly.transform(x_cv_poly)\n",
    "y_cv_poly_predictions = model2.predict(x_cv_poly_normalized)\n",
    "cv_score_poly = model2.score(x_cv_poly_normalized, y_cv)\n",
    "\n",
    "print(f\"Training score (polynomial): {training_score_poly}\")\n",
    "print(f\"Cross-validation score (polynomial): {cv_score_poly}\")\n",
    "print(f\"Training RMSE (polynomial): {root_mean_squared_error(y_train, y_train_poly_predictions)}\")\n",
    "print(f\"Cross-validation RMSE (polynomial): {root_mean_squared_error(y_cv,y_cv_poly_predictions)}\")\n",
    "# By adding a polynomial feature, the model is able to fit the data better and the RMSE is lower than the linear model.\n",
    "\n",
    "\n"
   ]
  },
  {
   "cell_type": "code",
   "execution_count": 34,
   "metadata": {},
   "outputs": [
    {
     "name": "stdout",
     "output_type": "stream",
     "text": [
      "Training score (polynomial 2): 0.945589999613536\n",
      "Cross-validation score (polynomial 2): 0.9605001233791555\n",
      "Training RMSE (polynomial 2): 4328.9741916923085\n",
      "Cross-validation RMSE (polynomial 2): 4223.472906052628\n"
     ]
    }
   ],
   "source": [
    "poly2 = PolynomialFeatures(degree=3)\n",
    "x_train_poly2 = poly2.fit_transform(x_train.reshape(-1,1))\n",
    "scaler_poly2 = StandardScaler()\n",
    "x_train_poly2_normalized = scaler_poly2.fit_transform(x_train_poly2)\n",
    "\n",
    "model3 = LinearRegression()\n",
    "model3.fit(x_train_poly2_normalized, y_train)\n",
    "\n",
    "y_train_poly2_predictions = model3.predict(x_train_poly2_normalized)\n",
    "training_score_poly2 = model3.score(x_train_poly2_normalized, y_train)\n",
    "\n",
    "x_cv_poly2 = poly2.transform(x_cv.reshape(-1,1))\n",
    "x_cv_poly2_normalized = scaler_poly2.transform(x_cv_poly2)\n",
    "y_cv_poly2_predictions = model3.predict(x_cv_poly2_normalized)\n",
    "cv_score_poly2 = model3.score(x_cv_poly2_normalized, y_cv)\n",
    "\n",
    "print(f\"Training score (polynomial 2): {training_score_poly2}\")\n",
    "print(f\"Cross-validation score (polynomial 2): {cv_score_poly2}\")\n",
    "print(f\"Training RMSE (polynomial 2): {root_mean_squared_error(y_train, y_train_poly2_predictions)}\")\n",
    "print(f\"Cross-validation RMSE (polynomial 2): {root_mean_squared_error(y_cv,y_cv_poly2_predictions)}\")\n",
    "# By adding a polynomial feature of degree 3, the model is able to fit the data better and the RMSE is lower than the polynomial model of degree 2. \n"
   ]
  },
  {
   "cell_type": "code",
   "execution_count": 36,
   "metadata": {},
   "outputs": [
    {
     "name": "stdout",
     "output_type": "stream",
     "text": [
      "Test score (polynomial 2): 0.26230443923862645\n",
      "Test RMSE (polynomial 2): 21303.122221956648\n"
     ]
    }
   ],
   "source": [
    "# Since model 3 found to be the best model, we will use it to predict the test data.\n",
    "\n",
    "x_test_poly2 = poly2.transform(x_test.reshape(-1,1))\n",
    "x_test_poly2_normalized = scaler_poly2.transform(x_test_poly2)\n",
    "y_test_poly2_predictions = model3.predict(x_test_poly2_normalized)\n",
    "test_score_poly2 = model3.score(x_test_poly2_normalized, y_test)\n",
    "\n",
    "print(f\"Test score (polynomial 2): {test_score_poly2}\")\n",
    "print(f\"Test RMSE (polynomial 2): {root_mean_squared_error(y_test, y_test_poly2_predictions)}\")\n",
    "# The test score and RMSE are not good, which means that the model is not able to generalize well to unseen data. or the degree of three poly may be overfitting the data."
   ]
  },
  {
   "cell_type": "code",
   "execution_count": 37,
   "metadata": {},
   "outputs": [
    {
     "name": "stdout",
     "output_type": "stream",
     "text": [
      "Test score (polynomial): 0.8450298755932255\n",
      "Test RMSE (polynomial): 9764.020102372884\n"
     ]
    }
   ],
   "source": [
    "# This time I will try to check model 2 with the test data.\n",
    "\n",
    "x_test_poly = poly.transform(x_test.reshape(-1,1))\n",
    "x_test_poly_normalized = scaler_poly.transform(x_test_poly)\n",
    "y_test_poly_predictions = model2.predict(x_test_poly_normalized)\n",
    "test_score_poly = model2.score(x_test_poly_normalized, y_test)\n",
    "\n",
    "print(f\"Test score (polynomial): {test_score_poly}\")\n",
    "print(f\"Test RMSE (polynomial): {root_mean_squared_error(y_test, y_test_poly_predictions)}\")\n",
    "# Suprisingly this time the model 2 is able to generalize well to unseen data. The RMSE is low and the test score is good.\n",
    "# That being said, the model 2 is the best model to predict the price of the house based on the area.\n",
    "# The model 2 is the best model to predict the price of the house based on the area. The model 2 has the lowest RMSE and the highest test score.\n",
    "\n",
    "# I learn a lot from evaluating models, although we found model 3 to have the best score in the cross-validation,\n",
    "# it is not always the best model to predict the test data. In this case, it really is better to have 3 sets of data (training, cross-validation, and test) to evaluate the model."
   ]
  },
  {
   "cell_type": "code",
   "execution_count": null,
   "metadata": {},
   "outputs": [],
   "source": []
  }
 ],
 "metadata": {
  "kernelspec": {
   "display_name": "base",
   "language": "python",
   "name": "python3"
  },
  "language_info": {
   "codemirror_mode": {
    "name": "ipython",
    "version": 3
   },
   "file_extension": ".py",
   "mimetype": "text/x-python",
   "name": "python",
   "nbconvert_exporter": "python",
   "pygments_lexer": "ipython3",
   "version": "3.12.4"
  }
 },
 "nbformat": 4,
 "nbformat_minor": 2
}
